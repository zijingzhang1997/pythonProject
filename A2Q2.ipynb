{
 "cells": [
  {
   "cell_type": "code",
   "execution_count": 7,
   "metadata": {},
   "outputs": [
    {
     "name": "stdout",
     "output_type": "stream",
     "text": [
      "[1317]\n",
      "[439.]\n",
      "[439.]\n"
     ]
    },
    {
     "data": {
      "image/png": "[encoded data removed]",
      "text/plain": [
       "<Figure size 432x288 with 1 Axes>"
      ]
     },
     "metadata": {
      "needs_background": "light"
     },
     "output_type": "display_data"
    }
   ],
   "source": [
    "import numpy as np\n",
    "from scipy.io import wavfile\n",
    "from numpy import fft\n",
    "import matplotlib.pyplot as plt\n",
    "\n",
    "sample_rate,sig_cor=wavfile.read(r'F:\\lecture document\\ECE 4250 signal\\Corcovado.wav')\n",
    "sig_cor=np.array(sig_cor,dtype=np.float32)\n",
    "sig_cor=sig_cor[:,1]\n",
    "a=sample_rate*122\n",
    "b=sample_rate*125\n",
    "sig_clip=sig_cor[a:b]\n",
    "\n",
    "fft_clip=np.fft.fft(sig_clip)\n",
    "#plt.plot(fft_clip.real)\n",
    "  #DC component is on the fft_clip[0] \n",
    "\n",
    "ffts_clip=np.fft.fftshift(fft_clip)  #After fftshift DC component is in the middle\n",
    "\n",
    "\n",
    "\n",
    "\n",
    "\n",
    "\n",
    "fft_clip1=fft_clip[0:int(len(fft_clip)*0.5)]\n",
    "ind=np.where(fft_clip1== max(fft_clip1))\n",
    "print(ind[0])\n",
    "freq=np.fft.fftfreq(fft_clip.size,1/sample_rate) #find the frequency by fftfreq\n",
    "print(freq[ind[0]])\n",
    "\n",
    "freq_1=ind[0]/len(fft_clip)*sample_rate  #find the frequency by calculation\n",
    "print(freq_1)\n",
    "\n",
    "\n",
    "import pyaudio \n",
    "\n",
    "p = pyaudio.PyAudio()\n",
    "\n",
    "volume = 0.5     # range [0.0, 1.0]\n",
    "fs = sample_rate       # sampling rate, Hz, must be integer\n",
    "duration = 3.0   # in seconds, may be float\n",
    "f = 439.0        # sine frequency, Hz, may be float\n",
    "\n",
    "# generate samples, note conversion to float32 array\n",
    "samples = (np.sin(2*np.pi*np.arange(fs*duration)*f/fs)).astype(np.float32)\n",
    "\n",
    "# for paFloat32 sample values must be in range [-1.0, 1.0]\n",
    "stream = p.open(format=pyaudio.paFloat32,\n",
    "               channels=1,\n",
    "                rate=fs,\n",
    "                output=True)\n",
    "\n",
    "# play. May repeat with different volume values (if done interactively) \n",
    "stream.write(volume*samples)\n",
    "\n",
    "stream.stop_stream()   \n",
    "stream.close()\n",
    "p.terminate() \n",
    "\n",
    "\n",
    "\n",
    "p = pyaudio.PyAudio()\n",
    "\n",
    "volume = 0.5     # range [0.0, 1.0]\n",
    "fs = sample_rate       # sampling rate, Hz, must be integer\n",
    "duration = 3.0   # in seconds, may be float\n",
    "f = 439.0        # sine frequency, Hz, may be float\n",
    "\n",
    "# generate samples, note conversion to float32 array\n",
    "sig = sig_clip\n",
    "plt.plot(sig)\n",
    "# for paFloat32 sample values must be in range [-1.0, 1.0]\n",
    "stream = p.open(format=pyaudio.paFloat32,\n",
    "               channels=1,\n",
    "                rate=fs,\n",
    "                output=True)\n",
    "\n",
    "# play. May repeat with different volume values (if done interactively) \n",
    "stream.write(volume*sig)\n",
    "\n",
    "stream.stop_stream()   \n",
    "stream.close()\n",
    "p.terminate() \n",
    "\n"
   ]
  },
  {
   "cell_type": "code",
   "execution_count": null,
   "metadata": {},
   "outputs": [],
   "source": []
  },
  {
   "cell_type": "code",
   "execution_count": null,
   "metadata": {},
   "outputs": [],
   "source": []
  }
 ],
 "metadata": {
  "kernelspec": {
   "display_name": "Python 3",
   "language": "python",
   "name": "python3"
  },
  "language_info": {
   "codemirror_mode": {
    "name": "ipython",
    "version": 3
   },
   "file_extension": ".py",
   "mimetype": "text/x-python",
   "name": "python",
   "nbconvert_exporter": "python",
   "pygments_lexer": "ipython3",
   "version": "3.7.4"
  }
 },
 "nbformat": 4,
 "nbformat_minor": 2
}
