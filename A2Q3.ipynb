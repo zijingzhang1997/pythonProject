{
 "cells": [
  {
   "cell_type": "code",
   "execution_count": 51,
   "metadata": {},
   "outputs": [
    {
     "name": "stdout",
     "output_type": "stream",
     "text": [
      "128\n"
     ]
    },
    {
     "name": "stderr",
     "output_type": "stream",
     "text": [
      "C:\\Users\\zzj\\Anaconda3\\lib\\site-packages\\ipykernel_launcher.py:31: UserWarning: In Matplotlib 3.3 individual lines on a stem plot will be added as a LineCollection instead of individual lines. This significantly improves the performance of a stem plot. To remove this warning and switch to the new behaviour, set the \"use_line_collection\" keyword argument to True.\n"
     ]
    },
    {
     "data": {
      "image/png": "[encoded data removed]",
      "text/plain": [
       "<Figure size 432x288 with 3 Axes>"
      ]
     },
     "metadata": {
      "needs_background": "light"
     },
     "output_type": "display_data"
    }
   ],
   "source": [
    "import numpy as np\n",
    "import matplotlib.pyplot as plt\n",
    "\n",
    "N=128\n",
    "n=np.linspace(0,1,N)\n",
    "f=1\n",
    "x = np.cos(2*np.pi*n*f)   #(a)the sampling rate is above the Nyquist rate of 2f\n",
    "\n",
    "print(len(x))\n",
    "\n",
    "\n",
    "def DFT(x,N):   #(b) N-pont DFT by generate a N*N matrix then N*x=x_K\n",
    "  \n",
    "    n = np.arange(N)\n",
    "    n = np.expand_dims(n, axis=1)      \n",
    "    k = n\n",
    "    m = n.T * k / N                    # [N,1] * [1, N] = [N,N]\n",
    "    S_ = np.exp(1j * 2 * np.pi * m)     #  S\n",
    "    S = np.conjugate(S_)\n",
    "\n",
    "    X_k = np.dot(S, x)\n",
    "    return X_k\n",
    "\n",
    "X_k = DFT(x,N)\n",
    "mX = np.abs(X_k)\n",
    "pX = np.angle(X_k)\n",
    "\n",
    "# plot the magnitude and phase\n",
    "\n",
    "plt.subplot(3,1,1)\n",
    "plt.stem(n,x)\n",
    "\n",
    "plt.subplot(3,1,2)\n",
    "plt.plot(mX)\n",
    "\n",
    "plt.subplot(3,1,3)\n",
    "plt.plot(pX)\n",
    "plt.show()\n",
    "\n"
   ]
  },
  {
   "cell_type": "code",
   "execution_count": 84,
   "metadata": {},
   "outputs": [
    {
     "name": "stderr",
     "output_type": "stream",
     "text": [
      "C:\\Users\\zzj\\Anaconda3\\lib\\site-packages\\ipykernel_launcher.py:12: ComplexWarning: Casting complex values to real discards the imaginary part\n",
      "  if sys.path[0] == '':\n",
      "C:\\Users\\zzj\\Anaconda3\\lib\\site-packages\\ipykernel_launcher.py:15: ComplexWarning: Casting complex values to real discards the imaginary part\n",
      "  from ipykernel import kernelapp as app\n"
     ]
    },
    {
     "data": {
      "text/plain": [
       "[<matplotlib.lines.Line2D at 0x1929703e4c8>]"
      ]
     },
     "execution_count": 84,
     "metadata": {},
     "output_type": "execute_result"
    },
    {
     "data": {
      "image/png": "[encoded data removed]",
      "text/plain": [
       "<Figure size 432x288 with 1 Axes>"
      ]
     },
     "metadata": {
      "needs_background": "light"
     },
     "output_type": "display_data"
    }
   ],
   "source": [
    "def myFFT(inList, N): # N even \n",
    "    X = np.zeros((N, ))\n",
    "    if N < 2:\n",
    "        return inList\n",
    "    else:\n",
    "        xx1, xx2 = inList[::2], inList[1::2]   # xx1 even, xx2 odd\n",
    "        X1 = myFFT(xx1, int(N/2))\n",
    "        X2 = myFFT(xx2, int(N/2))\n",
    "        for k in range(int(N/2)):\n",
    "            X[k] = X1[k] + np.exp(np.complex(\n",
    "                0, -2 * np.pi * k / N\n",
    "            )) * X2[k]\n",
    "            X[k + int(N/2)] = X1[k] - np.exp(np.complex(\n",
    "                0, -2 * np.pi * k / N\n",
    "            )) * X2[k]\n",
    "    return X\n",
    "\n",
    "\n",
    "n=np.linspace(0,1,128)\n",
    "N= 128\n",
    "f=1\n",
    "x = np.cos(2*np.pi*n*f)\n",
    "plt.plot(x, label = 'input')\n",
    "result = myFFT(x,N)\n",
    "plt.plot(abs(result), label = 'output')\n",
    "plt.legend(loc='best')\n",
    "plt.show()\n",
    "\n",
    "\n"
   ]
  },
  {
   "cell_type": "code",
   "execution_count": 99,
   "metadata": {},
   "outputs": [
    {
     "name": "stderr",
     "output_type": "stream",
     "text": [
      "C:\\Users\\zzj\\Anaconda3\\lib\\site-packages\\ipykernel_launcher.py:9: DeprecationWarning: time.clock has been deprecated in Python 3.3 and will be removed from Python 3.8: use time.perf_counter or time.process_time instead\n",
      "  if __name__ == '__main__':\n",
      "C:\\Users\\zzj\\Anaconda3\\lib\\site-packages\\ipykernel_launcher.py:12: ComplexWarning: Casting complex values to real discards the imaginary part\n",
      "  if sys.path[0] == '':\n",
      "C:\\Users\\zzj\\Anaconda3\\lib\\site-packages\\ipykernel_launcher.py:15: ComplexWarning: Casting complex values to real discards the imaginary part\n",
      "  from ipykernel import kernelapp as app\n",
      "C:\\Users\\zzj\\Anaconda3\\lib\\site-packages\\ipykernel_launcher.py:11: DeprecationWarning: time.clock has been deprecated in Python 3.3 and will be removed from Python 3.8: use time.perf_counter or time.process_time instead\n",
      "  # This is added back by InteractiveShellApp.init_path()\n",
      "C:\\Users\\zzj\\Anaconda3\\lib\\site-packages\\ipykernel_launcher.py:15: DeprecationWarning: time.clock has been deprecated in Python 3.3 and will be removed from Python 3.8: use time.perf_counter or time.process_time instead\n",
      "  from ipykernel import kernelapp as app\n"
     ]
    },
    {
     "name": "stdout",
     "output_type": "stream",
     "text": [
      "MyFFT time is ： 0.7429486000037286\n",
      "DFT time is ： 6.255682499999239\n"
     ]
    },
    {
     "name": "stderr",
     "output_type": "stream",
     "text": [
      "C:\\Users\\zzj\\Anaconda3\\lib\\site-packages\\ipykernel_launcher.py:17: DeprecationWarning: time.clock has been deprecated in Python 3.3 and will be removed from Python 3.8: use time.perf_counter or time.process_time instead\n"
     ]
    },
    {
     "data": {
      "text/plain": [
       "[<matplotlib.lines.Line2D at 0x192988f7208>]"
      ]
     },
     "execution_count": 99,
     "metadata": {},
     "output_type": "execute_result"
    },
    {
     "data": {
      "image/png": "[encoded data removed]",
      "text/plain": [
       "<Figure size 432x288 with 2 Axes>"
      ]
     },
     "metadata": {
      "needs_background": "light"
     },
     "output_type": "display_data"
    }
   ],
   "source": [
    "import time\n",
    "from scipy.io import wavfile\n",
    "sample_rate,sig_clip=wavfile.read(r'F:\\lecture document\\ECE 4250 signal\\clip.wav')\n",
    "sig_clip=np.array(sig_clip,dtype=np.float32)\n",
    "sig_clip=sig_clip[:,0]\n",
    "\n",
    "sig=sig_clip[0:8192]\n",
    "\n",
    "start = time.clock()\n",
    "result1 = myFFT(sig,8192)\n",
    "end = time.clock()\n",
    "t=end-start\n",
    "print(\"MyFFT time is ：\",t)\n",
    "\n",
    "start = time.clock()\n",
    "result2 = DFT(sig,8192)\n",
    "end = time.clock()\n",
    "t=end-start\n",
    "print(\"DFT time is ：\",t)\n",
    "\n",
    "plt.subplot(2,1,1)\n",
    "plt.plot(result1)\n",
    "\n",
    "plt.subplot(2,1,2)\n",
    "plt.plot(result2)\n",
    "\n"
   ]
  },
  {
   "cell_type": "code",
   "execution_count": null,
   "metadata": {},
   "outputs": [],
   "source": []
  }
 ],
 "metadata": {
  "kernelspec": {
   "display_name": "Python 3",
   "language": "python",
   "name": "python3"
  },
  "language_info": {
   "codemirror_mode": {
    "name": "ipython",
    "version": 3
   },
   "file_extension": ".py",
   "mimetype": "text/x-python",
   "name": "python",
   "nbconvert_exporter": "python",
   "pygments_lexer": "ipython3",
   "version": "3.7.4"
  }
 },
 "nbformat": 4,
 "nbformat_minor": 2
}
