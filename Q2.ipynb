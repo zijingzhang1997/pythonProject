{
 "cells": [
  {
   "cell_type": "code",
   "execution_count": 19,
   "metadata": {},
   "outputs": [
    {
     "name": "stdout",
     "output_type": "stream",
     "text": [
      "sample rate of Corcovado is 44100\n",
      "sample rate of clip is 44100\n",
      "maximum correlation index is (array([7204405], dtype=int64),)\n",
      "11221103\n",
      "[  280.   368.    80. ... -7403. -6351. -5462.]\n",
      "(11221103,)\n",
      "clip time is 2min42s\n"
     ]
    },
    {
     "data": {
      "text/plain": [
       "[<matplotlib.lines.Line2D at 0x23981726ec8>]"
      ]
     },
     "execution_count": 19,
     "metadata": {},
     "output_type": "execute_result"
    },
    {
     "data": {
      "image/png": "[encoded data removed]",
      "text/plain": [
       "<Figure size 432x288 with 1 Axes>"
      ]
     },
     "metadata": {
      "needs_background": "light"
     },
     "output_type": "display_data"
    }
   ],
   "source": [
    "import numpy as np\n",
    "from scipy.io import wavfile\n",
    "from scipy import signal\n",
    "import matplotlib.pyplot as plt\n",
    "\n",
    "sample_rate_cor,sig_cor=wavfile.read(r'C:\\Users\\zzj\\Documents\\Corcovado.wav')\n",
    "sample_rate_clip,sig_clip=wavfile.read(r'C:\\Users\\zzj\\Documents\\clip.wav')\n",
    "sig_cor=np.array(sig_cor,dtype=np.float64)\n",
    "sig_clip=np.array(sig_clip,dtype=np.float64)\n",
    "sig_cor=sig_cor[:,0]\n",
    "sig_clip=sig_clip[:,0]\n",
    "corr = signal.correlate(sig_cor, sig_clip, mode='same')\n",
    "corr=np.array(corr,dtype='float64')\n",
    "\n",
    "\n",
    "\n",
    "print(\"sample rate of Corcovado is\",sample_rate_cor)\n",
    "print(\"sample rate of clip is\",sample_rate_clip)\n",
    "print(\"maximum correlation index is\", np.where(corr==np.max(corr)))\n",
    "print(sig_cor.size)\n",
    "print(sig_clip)\n",
    "print(corr.shape)\n",
    "print(\"clip time is 2min42s\",)#(7204405/11221103 *time length(4min14s) =2min42s)\n",
    "\n",
    "plt.plot(corr)"
   ]
  },
  {
   "cell_type": "code",
   "execution_count": null,
   "metadata": {},
   "outputs": [],
   "source": []
  },
  {
   "cell_type": "code",
   "execution_count": null,
   "metadata": {},
   "outputs": [],
   "source": []
  },
  {
   "cell_type": "code",
   "execution_count": null,
   "metadata": {},
   "outputs": [],
   "source": []
  }
 ],
 "metadata": {
  "kernelspec": {
   "display_name": "Python 3",
   "language": "python",
   "name": "python3"
  },
  "language_info": {
   "codemirror_mode": {
    "name": "ipython",
    "version": 3
   },
   "file_extension": ".py",
   "mimetype": "text/x-python",
   "name": "python",
   "nbconvert_exporter": "python",
   "pygments_lexer": "ipython3",
   "version": "3.7.4"
  }
 },
 "nbformat": 4,
 "nbformat_minor": 2
}
