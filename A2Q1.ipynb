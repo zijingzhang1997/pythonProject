{
 "cells": [
  {
   "cell_type": "code",
   "execution_count": 12,
   "metadata": {},
   "outputs": [
    {
     "name": "stdout",
     "output_type": "stream",
     "text": [
      "[1.        +0.j 2.33333333+0.j 2.66666667+0.j 2.33333333+0.j\n",
      " 2.66666667+0.j 4.33333333+0.j 6.        +0.j 7.        +0.j\n",
      " 5.66666667+0.j 4.66666667+0.j 2.        +0.j 1.33333333+0.j]\n"
     ]
    }
   ],
   "source": [
    "import numpy as np\n",
    "from numpy import fft\n",
    "\n",
    "x=np.array([3,4,1,2,5,6,7,8,2,4])   \n",
    "h=np.array([1/3,1/3,1/3])\n",
    "\n",
    "fft_x=np.fft.fft(x,12)\n",
    "fft_h=np.fft.fft(h,12)\n",
    "\n",
    "y=np.multiply(fft_x,fft_h)\n",
    "\n",
    "y_ifft=np.fft.ifft(y)\n",
    "print(y_ifft)"
   ]
  },
  {
   "cell_type": "code",
   "execution_count": 9,
   "metadata": {},
   "outputs": [
    {
     "name": "stdout",
     "output_type": "stream",
     "text": [
      "[0.3333333333333333, 0.3333333333333333, 0.3333333333333333]\n",
      "[0, 0, 3, 4, 1, 2, 5, 6, 7, 8, 2, 4, 0, 0]\n",
      "[1.0, 2.333333333333333, 2.6666666666666665, 2.333333333333333, 2.6666666666666665, 4.333333333333333, 6.0, 7.0, 5.666666666666667, 4.666666666666666, 2.0, 1.3333333333333333]\n"
     ]
    }
   ],
   "source": [
    "x=[3,4,1,2,5,6,7,8,2,4]   #Assignment 1 solution\n",
    "M=len(x)\n",
    "N=len(h)\n",
    "\n",
    "h_flip=[]\n",
    "for i in range(N):\n",
    "    h_flip.append(h[N-1-i])\n",
    "print(h_flip)\n",
    "\n",
    "x_large=[]\n",
    "for i in range(N-1):\n",
    "    x_large.append(0)\n",
    "for i in range(M):\n",
    "    x_large.append(x[i])\n",
    "for i in range(N-1):\n",
    "    x_large.append(0)\n",
    "print(x_large)\n",
    "\n",
    "conv=[]\n",
    "for i in range(M+N-1):\n",
    "    summary=0\n",
    "    for j in range(N):\n",
    "        summary +=h_flip[j]*x_large[i+j]\n",
    "    conv.append(summary)\n",
    "print(conv)"
   ]
  },
  {
   "cell_type": "code",
   "execution_count": null,
   "metadata": {},
   "outputs": [],
   "source": []
  }
 ],
 "metadata": {
  "kernelspec": {
   "display_name": "Python 3",
   "language": "python",
   "name": "python3"
  },
  "language_info": {
   "codemirror_mode": {
    "name": "ipython",
    "version": 3
   },
   "file_extension": ".py",
   "mimetype": "text/x-python",
   "name": "python",
   "nbconvert_exporter": "python",
   "pygments_lexer": "ipython3",
   "version": "3.7.4"
  }
 },
 "nbformat": 4,
 "nbformat_minor": 2
}
